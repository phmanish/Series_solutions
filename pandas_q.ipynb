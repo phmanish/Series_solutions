{
 "cells": [
  {
   "cell_type": "code",
   "execution_count": null,
   "metadata": {},
   "outputs": [],
   "source": [
    "# print a one dimensional array\n",
    "import pandas as pd\n",
    "ser_a = ['a','b','c','d','e','f']\n",
    "ser_b = [1,2,3,4,5,6]\n",
    "oned_array = pd.Series(ser_b, index=ser_a)\n",
    "oned_array"
   ]
  },
  {
   "cell_type": "code",
   "execution_count": 5,
   "metadata": {},
   "outputs": [
    {
     "data": {
      "text/plain": [
       "[1, 2, 3, 4, 5, 6]"
      ]
     },
     "execution_count": 5,
     "metadata": {},
     "output_type": "execute_result"
    }
   ],
   "source": [
    "# Convert pandas seried to list\n",
    "oned_list = oned_array.to_list()\n",
    "oned_list"
   ]
  },
  {
   "cell_type": "code",
   "execution_count": null,
   "metadata": {},
   "outputs": [],
   "source": [
    "# Function for adding, subtracting, multiplying or dividing series\n",
    "series_1 = pd.Series([1, 2, 3, 4, 5])\n",
    "series_2 = pd.Series([5, 4, 3, 2, 1])\n",
    "\n",
    "def df_func(ser_a, ser_b, act_ser):\n",
    "    if act_ser == 'add':\n",
    "        print(series_1.add(series_2))\n",
    "    elif act_ser == 'sub':\n",
    "        print(series_1.sub(series_2))\n",
    "    elif act_ser == 'mul':\n",
    "        print(series_1.mul(series_2))\n",
    "    elif act_ser == 'div':\n",
    "        print(series_1.div(series_2))\n",
    "\n",
    "df_func(series_1, series_2, 'div')"
   ]
  },
  {
   "cell_type": "code",
   "execution_count": null,
   "metadata": {},
   "outputs": [],
   "source": [
    "# Comparing 2 series\n",
    "series_1.compare(series_2)"
   ]
  },
  {
   "cell_type": "code",
   "execution_count": null,
   "metadata": {},
   "outputs": [],
   "source": [
    "# Create series from a dictionary\n",
    "sample_dict = {'a':1, 'b':2, 'c':3, 'd':4}\n",
    "dict_ser = pd.Series(sample_dict)\n",
    "dict_ser"
   ]
  },
  {
   "cell_type": "code",
   "execution_count": 40,
   "metadata": {},
   "outputs": [
    {
     "data": {
      "text/plain": [
       "0    5\n",
       "1    7\n",
       "2    5\n",
       "3    6\n",
       "4    4\n",
       "dtype: int32"
      ]
     },
     "execution_count": 40,
     "metadata": {},
     "output_type": "execute_result"
    }
   ],
   "source": [
    "# Convert Numpy arrray to a series\n",
    "import numpy as np\n",
    "np_array = np.random.randint(8, size=5)\n",
    "# np_array\n",
    "ser_np = pd.Series(np_array)\n",
    "ser_np"
   ]
  },
  {
   "cell_type": "code",
   "execution_count": 80,
   "metadata": {},
   "outputs": [
    {
     "data": {
      "text/plain": [
       "0    100.00\n",
       "1    200.00\n",
       "2       NaN\n",
       "3    300.12\n",
       "4    400.00\n",
       "dtype: float64"
      ]
     },
     "execution_count": 80,
     "metadata": {},
     "output_type": "execute_result"
    }
   ],
   "source": [
    "# Changing column data type from string to integer and return string as 'NaN'\n",
    "list_1 = [100, 200, 'python', 300.12, 400]\n",
    "l_ser = pd.Series(list_1)\n",
    "# l_ser.dtype\n",
    "# l_ser.astype(int, errors='ignore')\n",
    "# l_ser.convert_dtypes(convert_integer=True, convert_string=False)\n",
    "# l_ser.astype('Float32', errors='coerce')\n",
    "upd_ser = pd.to_numeric(l_ser, errors='coerce')\n",
    "upd_ser"
   ]
  },
  {
   "cell_type": "code",
   "execution_count": 78,
   "metadata": {},
   "outputs": [
    {
     "data": {
      "text/plain": [
       "pandas.core.frame.DataFrame"
      ]
     },
     "execution_count": 78,
     "metadata": {},
     "output_type": "execute_result"
    }
   ],
   "source": [
    "# Generate series from a dataframe\n",
    "import random as rdm\n",
    "# df_1 = pd.DataFrame({'col_1' : [1,2,3,4,7,11], 'col_2':[4,5,6,9,5,0], 'col_3':[7,5,8,12,1,11]})\n",
    "# df_1\n",
    "def generat_list(count_1: int):\n",
    "    rand_list = []\n",
    "    for i in range(0,count_1):\n",
    "        rand_list.append(rdm.randint(1,9))\n",
    "    return rand_list\n",
    "df_1 = pd.DataFrame({'col_1' : generat_list(5), 'col_2': generat_list(5), 'col_3': generat_list(5)})\n",
    "df_1['col_1']"
   ]
  },
  {
   "cell_type": "code",
   "execution_count": 83,
   "metadata": {},
   "outputs": [
    {
     "data": {
      "text/plain": [
       "<NumpyExtensionArray>\n",
       "[100, 200, 'python', 300.12, 400]\n",
       "Length: 5, dtype: object"
      ]
     },
     "execution_count": 83,
     "metadata": {},
     "output_type": "execute_result"
    }
   ],
   "source": [
    "# Converting given series to a numpy array\n",
    "l_ser.array"
   ]
  },
  {
   "cell_type": "code",
   "execution_count": 97,
   "metadata": {},
   "outputs": [
    {
     "data": {
      "text/plain": [
       "0       Red\n",
       "1     Green\n",
       "2     White\n",
       "3       Red\n",
       "4     Black\n",
       "5    Yellow\n",
       "dtype: object"
      ]
     },
     "execution_count": 97,
     "metadata": {},
     "output_type": "execute_result"
    }
   ],
   "source": [
    "# Convert a series of lists to a list\n",
    "list_1 = ['Red', 'Green', 'White']\n",
    "list_2 = ['Red', 'Black']\n",
    "list_3 = ['Yellow']\n",
    "ser_list = pd.Series([list_1,list_2,list_3])\n",
    "# ser_list\n",
    "# ser_list.explode()\n",
    "ser_list.apply(pd.Series).stack().reset_index(drop=True)"
   ]
  },
  {
   "cell_type": "code",
   "execution_count": null,
   "metadata": {},
   "outputs": [],
   "source": []
  },
  {
   "cell_type": "code",
   "execution_count": null,
   "metadata": {},
   "outputs": [],
   "source": []
  }
 ],
 "metadata": {
  "kernelspec": {
   "display_name": "Python 3",
   "language": "python",
   "name": "python3"
  },
  "language_info": {
   "codemirror_mode": {
    "name": "ipython",
    "version": 3
   },
   "file_extension": ".py",
   "mimetype": "text/x-python",
   "name": "python",
   "nbconvert_exporter": "python",
   "pygments_lexer": "ipython3",
   "version": "3.12.2"
  }
 },
 "nbformat": 4,
 "nbformat_minor": 2
}
